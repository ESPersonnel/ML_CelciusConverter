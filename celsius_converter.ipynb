{
  "nbformat": 4,
  "nbformat_minor": 0,
  "metadata": {
    "colab": {
      "name": "celsius converter.ipynb",
      "provenance": [],
      "authorship_tag": "ABX9TyNz1GidiJpn/pbhe6DRyBkK",
      "include_colab_link": true
    },
    "kernelspec": {
      "name": "python3",
      "display_name": "Python 3"
    }
  },
  "cells": [
    {
      "cell_type": "markdown",
      "metadata": {
        "id": "view-in-github",
        "colab_type": "text"
      },
      "source": [
        "<a href=\"https://colab.research.google.com/github/ESPersonnel/ML_CelciusConverter/blob/main/celsius_converter.ipynb\" target=\"_parent\"><img src=\"https://colab.research.google.com/assets/colab-badge.svg\" alt=\"Open In Colab\"/></a>"
      ]
    },
    {
      "cell_type": "markdown",
      "metadata": {
        "id": "1ODXyhPPSnZd"
      },
      "source": [
        "# Celcius to Fahrenheit Converter\n",
        "\n",
        "Developer: Wycliffe Ndiba\n",
        "\n",
        "This is a machine learning model that is trained to predict the Fahrenheit of a given Celcius number. "
      ]
    },
    {
      "cell_type": "code",
      "metadata": {
        "id": "JU0tP_aYu9pa"
      },
      "source": [
        "from __future__ import absolute_import, division, print_function, unicode_literals"
      ],
      "execution_count": null,
      "outputs": []
    },
    {
      "cell_type": "code",
      "metadata": {
        "id": "VqRKhfZvvvta"
      },
      "source": [
        "try:\n",
        "  %tensorflow_version 2.x\n",
        "except Exception:\n",
        "  pass\n",
        "\n",
        "import tensorflow as tf"
      ],
      "execution_count": null,
      "outputs": []
    },
    {
      "cell_type": "code",
      "metadata": {
        "id": "Npj5dF1LwD6H"
      },
      "source": [
        "import numpy as np\n",
        "import logging\n",
        "\n",
        "logger = tf.get_logger()\n",
        "logger.setLevel(logging.ERROR)"
      ],
      "execution_count": null,
      "outputs": []
    },
    {
      "cell_type": "code",
      "metadata": {
        "id": "PpFSZsqYwumD"
      },
      "source": [
        "# Training Data\n",
        "\n",
        "celcius_q = np.array([-40, -10, 0, 8, 15, 22, 38], dtype=float)\n",
        "fahrenheit_a = np.array([-40, 14, 32, 46, 59, 72, 100], dtype=float)\n",
        "\n",
        "for i, c in enumerate(celcius_q):\n",
        "  print(\"Celcius: {} = Fahrenheit: {}\".format(c, fahrenheit_a[i]))\n",
        "\n",
        "# Expected Results\n",
        "# Celcius: -40.0 = Fahrenheit: -40.0\n",
        "# Celcius: -10.0 = Fahrenheit: 14.0\n",
        "# Celcius: 0.0 = Fahrenheit: 32.0\n",
        "# Celcius: 8.0 = Fahrenheit: 46.0\n",
        "# Celcius: 15.0 = Fahrenheit: 59.0\n",
        "# Celcius: 22.0 = Fahrenheit: 72.0\n",
        "# Celcius: 38.0 = Fahrenheit: 100.0"
      ],
      "execution_count": null,
      "outputs": []
    },
    {
      "cell_type": "code",
      "metadata": {
        "id": "LI0J6Qh_yjim"
      },
      "source": [
        "# Training the model\n",
        "# Expect result for the test data is a number close to 212 since 100C is 212F.\n",
        "\n",
        "l0 = tf.keras.layers.Dense(units=1, input_shape=[1])\n",
        "model = tf.keras.Sequential([l0])\n",
        "model.compile(loss='mean_squared_error', optimizer=tf.keras.optimizers.Adam(0.1))\n",
        "history = model.fit(celcius_q, fahrenheit_a, epochs=1000, verbose = False)\n",
        "model.predict([100.0])"
      ],
      "execution_count": null,
      "outputs": []
    },
    {
      "cell_type": "code",
      "metadata": {
        "id": "AzZAVH68z9-P"
      },
      "source": [
        "# Replace the number with whatever number you need to convert\n",
        "\n",
        "model.predict([37.4])"
      ],
      "execution_count": null,
      "outputs": []
    }
  ]
}